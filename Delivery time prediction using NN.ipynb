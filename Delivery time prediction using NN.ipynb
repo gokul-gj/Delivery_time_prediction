{
 "cells": [
  {
   "cell_type": "markdown",
   "id": "b42aebc0",
   "metadata": {},
   "source": [
    "### Problem Statement\n",
    "Here we need to train a regression model to estimate the delivery time for Delivery app, a marketplace for intra-city logistics in India. The goal is to provide customers with an estimated delivery time based on various factors, including the items being ordered, the location they are being delivered from, and the available delivery partners."
   ]
  },
  {
   "cell_type": "code",
   "execution_count": 88,
   "id": "06f86d0d",
   "metadata": {},
   "outputs": [],
   "source": [
    "import pandas as pd\n",
    "import matplotlib.pyplot as plt\n",
    "import seaborn as sns\n",
    "from sklearn import preprocessing\n",
    "from sklearn.impute import SimpleImputer,KNNImputer\n",
    "from sklearn.model_selection import train_test_split\n",
    "from sklearn.preprocessing import LabelEncoder\n",
    "from sklearn.ensemble import RandomForestRegressor\n",
    "from sklearn.model_selection import GridSearchCV\n",
    "from sklearn.metrics import mean_squared_error\n",
    "import numpy as np\n",
    "from sklearn.metrics import mean_squared_error, mean_absolute_error\n",
    "import tensorflow as tf\n",
    "from tensorflow import keras\n",
    "from tensorflow.keras import layers"
   ]
  },
  {
   "cell_type": "code",
   "execution_count": 2,
   "id": "3e8680c8",
   "metadata": {},
   "outputs": [
    {
     "data": {
      "text/html": [
       "<div>\n",
       "<style scoped>\n",
       "    .dataframe tbody tr th:only-of-type {\n",
       "        vertical-align: middle;\n",
       "    }\n",
       "\n",
       "    .dataframe tbody tr th {\n",
       "        vertical-align: top;\n",
       "    }\n",
       "\n",
       "    .dataframe thead th {\n",
       "        text-align: right;\n",
       "    }\n",
       "</style>\n",
       "<table border=\"1\" class=\"dataframe\">\n",
       "  <thead>\n",
       "    <tr style=\"text-align: right;\">\n",
       "      <th></th>\n",
       "      <th>market_id</th>\n",
       "      <th>created_at</th>\n",
       "      <th>actual_delivery_time</th>\n",
       "      <th>store_id</th>\n",
       "      <th>store_primary_category</th>\n",
       "      <th>order_protocol</th>\n",
       "      <th>total_items</th>\n",
       "      <th>subtotal</th>\n",
       "      <th>num_distinct_items</th>\n",
       "      <th>min_item_price</th>\n",
       "      <th>max_item_price</th>\n",
       "      <th>total_onshift_partners</th>\n",
       "      <th>total_busy_partners</th>\n",
       "      <th>total_outstanding_orders</th>\n",
       "    </tr>\n",
       "  </thead>\n",
       "  <tbody>\n",
       "    <tr>\n",
       "      <th>0</th>\n",
       "      <td>1.0</td>\n",
       "      <td>2015-02-06 22:24:17</td>\n",
       "      <td>2015-02-06 23:27:16</td>\n",
       "      <td>df263d996281d984952c07998dc54358</td>\n",
       "      <td>american</td>\n",
       "      <td>1.0</td>\n",
       "      <td>4</td>\n",
       "      <td>3441</td>\n",
       "      <td>4</td>\n",
       "      <td>557</td>\n",
       "      <td>1239</td>\n",
       "      <td>33.0</td>\n",
       "      <td>14.0</td>\n",
       "      <td>21.0</td>\n",
       "    </tr>\n",
       "    <tr>\n",
       "      <th>1</th>\n",
       "      <td>2.0</td>\n",
       "      <td>2015-02-10 21:49:25</td>\n",
       "      <td>2015-02-10 22:56:29</td>\n",
       "      <td>f0ade77b43923b38237db569b016ba25</td>\n",
       "      <td>mexican</td>\n",
       "      <td>2.0</td>\n",
       "      <td>1</td>\n",
       "      <td>1900</td>\n",
       "      <td>1</td>\n",
       "      <td>1400</td>\n",
       "      <td>1400</td>\n",
       "      <td>1.0</td>\n",
       "      <td>2.0</td>\n",
       "      <td>2.0</td>\n",
       "    </tr>\n",
       "    <tr>\n",
       "      <th>2</th>\n",
       "      <td>3.0</td>\n",
       "      <td>2015-01-22 20:39:28</td>\n",
       "      <td>2015-01-22 21:09:09</td>\n",
       "      <td>f0ade77b43923b38237db569b016ba25</td>\n",
       "      <td>NaN</td>\n",
       "      <td>1.0</td>\n",
       "      <td>1</td>\n",
       "      <td>1900</td>\n",
       "      <td>1</td>\n",
       "      <td>1900</td>\n",
       "      <td>1900</td>\n",
       "      <td>1.0</td>\n",
       "      <td>0.0</td>\n",
       "      <td>0.0</td>\n",
       "    </tr>\n",
       "    <tr>\n",
       "      <th>3</th>\n",
       "      <td>3.0</td>\n",
       "      <td>2015-02-03 21:21:45</td>\n",
       "      <td>2015-02-03 22:13:00</td>\n",
       "      <td>f0ade77b43923b38237db569b016ba25</td>\n",
       "      <td>NaN</td>\n",
       "      <td>1.0</td>\n",
       "      <td>6</td>\n",
       "      <td>6900</td>\n",
       "      <td>5</td>\n",
       "      <td>600</td>\n",
       "      <td>1800</td>\n",
       "      <td>1.0</td>\n",
       "      <td>1.0</td>\n",
       "      <td>2.0</td>\n",
       "    </tr>\n",
       "    <tr>\n",
       "      <th>4</th>\n",
       "      <td>3.0</td>\n",
       "      <td>2015-02-15 02:40:36</td>\n",
       "      <td>2015-02-15 03:20:26</td>\n",
       "      <td>f0ade77b43923b38237db569b016ba25</td>\n",
       "      <td>NaN</td>\n",
       "      <td>1.0</td>\n",
       "      <td>3</td>\n",
       "      <td>3900</td>\n",
       "      <td>3</td>\n",
       "      <td>1100</td>\n",
       "      <td>1600</td>\n",
       "      <td>6.0</td>\n",
       "      <td>6.0</td>\n",
       "      <td>9.0</td>\n",
       "    </tr>\n",
       "  </tbody>\n",
       "</table>\n",
       "</div>"
      ],
      "text/plain": [
       "   market_id           created_at actual_delivery_time  \\\n",
       "0        1.0  2015-02-06 22:24:17  2015-02-06 23:27:16   \n",
       "1        2.0  2015-02-10 21:49:25  2015-02-10 22:56:29   \n",
       "2        3.0  2015-01-22 20:39:28  2015-01-22 21:09:09   \n",
       "3        3.0  2015-02-03 21:21:45  2015-02-03 22:13:00   \n",
       "4        3.0  2015-02-15 02:40:36  2015-02-15 03:20:26   \n",
       "\n",
       "                           store_id store_primary_category  order_protocol  \\\n",
       "0  df263d996281d984952c07998dc54358               american             1.0   \n",
       "1  f0ade77b43923b38237db569b016ba25                mexican             2.0   \n",
       "2  f0ade77b43923b38237db569b016ba25                    NaN             1.0   \n",
       "3  f0ade77b43923b38237db569b016ba25                    NaN             1.0   \n",
       "4  f0ade77b43923b38237db569b016ba25                    NaN             1.0   \n",
       "\n",
       "   total_items  subtotal  num_distinct_items  min_item_price  max_item_price  \\\n",
       "0            4      3441                   4             557            1239   \n",
       "1            1      1900                   1            1400            1400   \n",
       "2            1      1900                   1            1900            1900   \n",
       "3            6      6900                   5             600            1800   \n",
       "4            3      3900                   3            1100            1600   \n",
       "\n",
       "   total_onshift_partners  total_busy_partners  total_outstanding_orders  \n",
       "0                    33.0                 14.0                      21.0  \n",
       "1                     1.0                  2.0                       2.0  \n",
       "2                     1.0                  0.0                       0.0  \n",
       "3                     1.0                  1.0                       2.0  \n",
       "4                     6.0                  6.0                       9.0  "
      ]
     },
     "execution_count": 2,
     "metadata": {},
     "output_type": "execute_result"
    }
   ],
   "source": [
    "data = pd.read_csv('')\n",
    "data.head(5)"
   ]
  },
  {
   "cell_type": "code",
   "execution_count": 3,
   "id": "ad491fa6",
   "metadata": {},
   "outputs": [
    {
     "data": {
      "text/plain": [
       "197428"
      ]
     },
     "execution_count": 3,
     "metadata": {},
     "output_type": "execute_result"
    }
   ],
   "source": [
    "len(data)"
   ]
  },
  {
   "cell_type": "markdown",
   "id": "d252ec8e",
   "metadata": {},
   "source": [
    "## Column Profiling:"
   ]
  },
  {
   "cell_type": "markdown",
   "id": "886c27dd",
   "metadata": {},
   "source": [
    "\n",
    "    market_id : integer id for the market where the restaurant lies\n",
    "    created_at : the timestamp at which the order was placed\n",
    "    actual_delivery_time : the timestamp when the order was delivered\n",
    "    store_primary_category : category for the restaurant\n",
    "    order_protocol : integer code value for order protocol(how the order was placed ie:  call to restaurant, pre booked, third part etc)\n",
    "    total_items : total items in the order\n",
    "    subtotal : final price of the order\n",
    "    num_distinct_items : the number of distinct items in the order\n",
    "    min_item_price : price of the cheapest item in the order\n",
    "    max_item_price : price of the costliest item in order\n",
    "    total_onshift_partners : number of delivery partners on duty at the time order was placed\n",
    "    total_busy_partners : number of delivery partners attending to other tasks\n",
    "    total_outstanding_orders : total number of orders to be fulfilled at the moment\n"
   ]
  },
  {
   "cell_type": "code",
   "execution_count": 4,
   "id": "b3292d09",
   "metadata": {},
   "outputs": [
    {
     "name": "stdout",
     "output_type": "stream",
     "text": [
      "<class 'pandas.core.frame.DataFrame'>\n",
      "RangeIndex: 197428 entries, 0 to 197427\n",
      "Data columns (total 14 columns):\n",
      " #   Column                    Non-Null Count   Dtype  \n",
      "---  ------                    --------------   -----  \n",
      " 0   market_id                 196441 non-null  float64\n",
      " 1   created_at                197428 non-null  object \n",
      " 2   actual_delivery_time      197421 non-null  object \n",
      " 3   store_id                  197428 non-null  object \n",
      " 4   store_primary_category    192668 non-null  object \n",
      " 5   order_protocol            196433 non-null  float64\n",
      " 6   total_items               197428 non-null  int64  \n",
      " 7   subtotal                  197428 non-null  int64  \n",
      " 8   num_distinct_items        197428 non-null  int64  \n",
      " 9   min_item_price            197428 non-null  int64  \n",
      " 10  max_item_price            197428 non-null  int64  \n",
      " 11  total_onshift_partners    181166 non-null  float64\n",
      " 12  total_busy_partners       181166 non-null  float64\n",
      " 13  total_outstanding_orders  181166 non-null  float64\n",
      "dtypes: float64(5), int64(5), object(4)\n",
      "memory usage: 21.1+ MB\n"
     ]
    }
   ],
   "source": [
    "data.info() #This method prints information about a DataFrame including the index dtype and columns, \n",
    "#non-null values and memory usage."
   ]
  },
  {
   "cell_type": "markdown",
   "id": "925f674f",
   "metadata": {},
   "source": [
    "## Finding Outliers"
   ]
  },
  {
   "cell_type": "code",
   "execution_count": 5,
   "id": "1f8c8e74",
   "metadata": {},
   "outputs": [
    {
     "name": "stdout",
     "output_type": "stream",
     "text": [
      "Mean total_items is 3.196390582896043\n",
      "Median total_items is 3.0\n",
      "lower limit : 0 , upper limt : 10.0\n",
      "\n",
      "Min and max values in total_items column are 1 and 411 respectively.  \n"
     ]
    }
   ],
   "source": [
    "p_25 = data[\"total_items\"].quantile(0.25) \n",
    "p_50 = data[\"total_items\"].quantile(0.5)  # Q2 or p_50 or median\n",
    "p_75 = data[\"total_items\"].quantile(0.75)\n",
    "\n",
    "iqr = p_75 - p_25\n",
    "lower = max(0,(p_25 - 3 * iqr))\n",
    "upper = p_75 + 3 * iqr\n",
    "\n",
    "print('Mean total_items is {}'.format(data[\"total_items\"].mean()))\n",
    "print('Median total_items is {}'.format(data[\"total_items\"].median()))\n",
    "print('lower limit : {} , upper limt : {}'.format(lower,upper))\n",
    "print()\n",
    "print('Min and max values in total_items column are {} and {} respectively.  '\\\n",
    "      .format(data[\"total_items\"].min(),data[\"total_items\"].max()))"
   ]
  },
  {
   "cell_type": "code",
   "execution_count": 6,
   "id": "8f2771d4",
   "metadata": {},
   "outputs": [
    {
     "name": "stdout",
     "output_type": "stream",
     "text": [
      "0 3393\n"
     ]
    }
   ],
   "source": [
    "#There are  oultliers in total_items\n",
    "print(len(data[data['total_items'] < lower ]),len(data[data['total_items'] > upper ]) )"
   ]
  },
  {
   "cell_type": "code",
   "execution_count": 7,
   "id": "b6cb8617",
   "metadata": {},
   "outputs": [
    {
     "data": {
      "text/plain": [
       "1.7186012115809306"
      ]
     },
     "execution_count": 7,
     "metadata": {},
     "output_type": "execute_result"
    }
   ],
   "source": [
    "# percentage of ouliers in total_items:\n",
    "len(data[data['total_items'] > upper ])/len(data) * 100"
   ]
  },
  {
   "cell_type": "code",
   "execution_count": 8,
   "id": "4d23b856",
   "metadata": {},
   "outputs": [],
   "source": [
    "#removing outliers:\n",
    "data = data[data.total_items <= upper]"
   ]
  },
  {
   "cell_type": "code",
   "execution_count": 9,
   "id": "cbefa716",
   "metadata": {},
   "outputs": [
    {
     "name": "stdout",
     "output_type": "stream",
     "text": [
      "Median total_items : 3.0\n"
     ]
    },
    {
     "data": {
      "image/png": "[encoded data removed]",
      "text/plain": [
       "<Figure size 640x480 with 1 Axes>"
      ]
     },
     "metadata": {},
     "output_type": "display_data"
    }
   ],
   "source": [
    "sns.boxplot( y=data[\"total_items\"] )\n",
    "print(\"Median total_items :\",data[\"total_items\"].median())"
   ]
  },
  {
   "cell_type": "code",
   "execution_count": 10,
   "id": "1bd5f1c7",
   "metadata": {},
   "outputs": [
    {
     "name": "stdout",
     "output_type": "stream",
     "text": [
      "Mean subtotal is 2618.0897415414743\n",
      "Median subtotal is 2198.0\n",
      "lower limit : 0 , upper limt : 9180.0\n",
      "\n",
      "Min and max values in subtotal column are 0 and 15960 respectively.  \n"
     ]
    }
   ],
   "source": [
    "p_25 = data[\"subtotal\"].quantile(0.25) \n",
    "p_50 = data[\"subtotal\"].quantile(0.5)  # Q2 or p_50 or median\n",
    "p_75 = data[\"subtotal\"].quantile(0.75)\n",
    "\n",
    "iqr = p_75 - p_25\n",
    "lower = max(0,(p_25 - 3 * iqr))\n",
    "upper = p_75 + 3 * iqr\n",
    "\n",
    "print('Mean subtotal is {}'.format(data[\"subtotal\"].mean()))\n",
    "print('Median subtotal is {}'.format(data[\"subtotal\"].median()))\n",
    "print('lower limit : {} , upper limt : {}'.format(lower,upper))\n",
    "print()\n",
    "print('Min and max values in subtotal column are {} and {} respectively.  '\\\n",
    "      .format(data[\"subtotal\"].min(),data[\"subtotal\"].max()))"
   ]
  },
  {
   "cell_type": "code",
   "execution_count": 11,
   "id": "f967f291",
   "metadata": {},
   "outputs": [
    {
     "name": "stdout",
     "output_type": "stream",
     "text": [
      "0 1358\n"
     ]
    }
   ],
   "source": [
    "#There are  oultliers in subtotal \n",
    "print(len(data[data['subtotal'] < lower ]),len(data[data['subtotal'] > upper ]) )"
   ]
  },
  {
   "cell_type": "code",
   "execution_count": 12,
   "id": "0a9255cb",
   "metadata": {},
   "outputs": [
    {
     "data": {
      "text/plain": [
       "0.699873734120133"
      ]
     },
     "execution_count": 12,
     "metadata": {},
     "output_type": "execute_result"
    }
   ],
   "source": [
    "# percentage of ouliers in total_items:\n",
    "len(data[data['subtotal'] > upper ])/len(data) * 100"
   ]
  },
  {
   "cell_type": "code",
   "execution_count": 13,
   "id": "e87e0b84",
   "metadata": {},
   "outputs": [],
   "source": [
    "#removing outliers:\n",
    "data = data[data.subtotal <= upper]"
   ]
  },
  {
   "cell_type": "code",
   "execution_count": 14,
   "id": "8f046078",
   "metadata": {},
   "outputs": [
    {
     "name": "stdout",
     "output_type": "stream",
     "text": [
      "Median subtotal : 2190.0\n"
     ]
    },
    {
     "data": {
      "image/png": "[encoded data removed]",
      "text/plain": [
       "<Figure size 640x480 with 1 Axes>"
      ]
     },
     "metadata": {},
     "output_type": "display_data"
    }
   ],
   "source": [
    "sns.boxplot( y=data[\"subtotal\"] )\n",
    "print(\"Median subtotal :\",data[\"subtotal\"].median())"
   ]
  },
  {
   "cell_type": "code",
   "execution_count": 15,
   "id": "3c8e855d",
   "metadata": {},
   "outputs": [
    {
     "name": "stdout",
     "output_type": "stream",
     "text": [
      "Mean min_item_price is 693.5467751729578\n",
      "Median min_item_price is 599.0\n",
      "lower limit : 0 , upper limt : 2900.0\n",
      "\n",
      "Min and max values in min_item_price column are -86 and 8959 respectively.  \n"
     ]
    }
   ],
   "source": [
    "p_25 = data[\"min_item_price\"].quantile(0.25) \n",
    "p_50 = data[\"min_item_price\"].quantile(0.5)  # Q2 or p_50 or median\n",
    "p_75 = data[\"min_item_price\"].quantile(0.75)\n",
    "\n",
    "iqr = p_75 - p_25\n",
    "lower = max(0,(p_25 - 3 * iqr))\n",
    "upper = p_75 + 3 * iqr\n",
    "\n",
    "print('Mean min_item_price is {}'.format(data[\"min_item_price\"].mean()))\n",
    "print('Median min_item_price is {}'.format(data[\"min_item_price\"].median()))\n",
    "print('lower limit : {} , upper limt : {}'.format(lower,upper))\n",
    "print()\n",
    "print('Min and max values in min_item_price column are {} and {} respectively.  '\\\n",
    "      .format(data[\"min_item_price\"].min(),data[\"min_item_price\"].max()))"
   ]
  },
  {
   "cell_type": "code",
   "execution_count": 16,
   "id": "8edd418f",
   "metadata": {},
   "outputs": [
    {
     "name": "stdout",
     "output_type": "stream",
     "text": [
      "6 1174\n"
     ]
    }
   ],
   "source": [
    "#There are  oultliers in min_item_price \n",
    "print(len(data[data['min_item_price'] < lower ]),len(data[data['min_item_price'] > upper ]) )"
   ]
  },
  {
   "cell_type": "code",
   "execution_count": 17,
   "id": "716db4cc",
   "metadata": {},
   "outputs": [],
   "source": [
    "#removing outliers:\n",
    "data = data[(data.min_item_price <= upper) & (data.min_item_price >= lower)]"
   ]
  },
  {
   "cell_type": "code",
   "execution_count": 18,
   "id": "41763980",
   "metadata": {},
   "outputs": [
    {
     "name": "stdout",
     "output_type": "stream",
     "text": [
      "Median min_item_price : 595.0\n"
     ]
    },
    {
     "data": {
      "image/png": "[encoded data removed]",
      "text/plain": [
       "<Figure size 640x480 with 1 Axes>"
      ]
     },
     "metadata": {},
     "output_type": "display_data"
    }
   ],
   "source": [
    "sns.boxplot( y=data[\"min_item_price\"] )\n",
    "print(\"Median min_item_price :\",data[\"min_item_price\"].median())"
   ]
  },
  {
   "cell_type": "code",
   "execution_count": 19,
   "id": "a7ddf1d1",
   "metadata": {},
   "outputs": [
    {
     "name": "stdout",
     "output_type": "stream",
     "text": [
      "Mean max_item_price is 1140.8991472451266\n",
      "Median max_item_price is 1093.0\n",
      "lower limit : 0 , upper limt : 3180.0\n",
      "\n",
      "Min and max values in max_item_price column are 0 and 8500 respectively.  \n"
     ]
    }
   ],
   "source": [
    "p_25 = data[\"max_item_price\"].quantile(0.25) \n",
    "p_50 = data[\"max_item_price\"].quantile(0.5)  # Q2 or p_50 or median\n",
    "p_75 = data[\"max_item_price\"].quantile(0.75)\n",
    "\n",
    "iqr = p_75 - p_25\n",
    "lower = max(0,(p_25 - 3 * iqr))\n",
    "upper = p_75 + 3 * iqr\n",
    "\n",
    "print('Mean max_item_price is {}'.format(data[\"max_item_price\"].mean()))\n",
    "print('Median max_item_price is {}'.format(data[\"max_item_price\"].median()))\n",
    "print('lower limit : {} , upper limt : {}'.format(lower,upper))\n",
    "print()\n",
    "print('Min and max values in max_item_price column are {} and {} respectively.  '\\\n",
    "      .format(data[\"max_item_price\"].min(),data[\"max_item_price\"].max()))"
   ]
  },
  {
   "cell_type": "code",
   "execution_count": 20,
   "id": "754e7299",
   "metadata": {},
   "outputs": [
    {
     "name": "stdout",
     "output_type": "stream",
     "text": [
      "0 816\n"
     ]
    }
   ],
   "source": [
    "#There are  oultliers in max_item_price \n",
    "print(len(data[data['max_item_price'] < lower ]),len(data[data['max_item_price'] > upper ]) )"
   ]
  },
  {
   "cell_type": "code",
   "execution_count": 21,
   "id": "e08eff20",
   "metadata": {},
   "outputs": [],
   "source": [
    "#removing outliers:\n",
    "data = data[data.max_item_price <= upper]"
   ]
  },
  {
   "cell_type": "code",
   "execution_count": 22,
   "id": "570ec97c",
   "metadata": {},
   "outputs": [
    {
     "name": "stdout",
     "output_type": "stream",
     "text": [
      "Median max_item_price : 1079.0\n"
     ]
    },
    {
     "data": {
      "image/png": "[encoded data removed]",
      "text/plain": [
       "<Figure size 640x480 with 1 Axes>"
      ]
     },
     "metadata": {},
     "output_type": "display_data"
    }
   ],
   "source": [
    "sns.boxplot( y=data[\"max_item_price\"] )\n",
    "print(\"Median max_item_price :\",data[\"max_item_price\"].median())"
   ]
  },
  {
   "cell_type": "code",
   "execution_count": 23,
   "id": "4485ab96",
   "metadata": {},
   "outputs": [
    {
     "name": "stdout",
     "output_type": "stream",
     "text": [
      "Mean total_onshift_partners is 44.81453129734334\n",
      "Median total_onshift_partners is 37.0\n",
      "lower limit : 0 , upper limt : 209.0\n",
      "\n",
      "Min and max values in total_onshift_partners column are -4.0 and 171.0 respectively.  \n"
     ]
    }
   ],
   "source": [
    "p_25 = data[\"total_onshift_partners\"].quantile(0.25) \n",
    "p_50 = data[\"total_onshift_partners\"].quantile(0.5)  # Q2 or p_50 or median\n",
    "p_75 = data[\"total_onshift_partners\"].quantile(0.75)\n",
    "\n",
    "iqr = p_75 - p_25\n",
    "lower = max(0,(p_25 - 3 * iqr))\n",
    "upper = p_75 + 3 * iqr\n",
    "\n",
    "print('Mean total_onshift_partners is {}'.format(data[\"total_onshift_partners\"].mean()))\n",
    "print('Median total_onshift_partners is {}'.format(data[\"total_onshift_partners\"].median()))\n",
    "print('lower limit : {} , upper limt : {}'.format(lower,upper))\n",
    "print()\n",
    "print('Min and max values in total_onshift_partners column are {} and {} respectively.  '\\\n",
    "      .format(data[\"total_onshift_partners\"].min(),data[\"total_onshift_partners\"].max()))"
   ]
  },
  {
   "cell_type": "code",
   "execution_count": 24,
   "id": "57e69266",
   "metadata": {},
   "outputs": [
    {
     "name": "stdout",
     "output_type": "stream",
     "text": [
      "21 0\n"
     ]
    }
   ],
   "source": [
    "#There are  oultliers in total_onshift_partners \n",
    "print(len(data[data['total_onshift_partners'] < lower ]),len(data[data['total_onshift_partners'] > upper ]) )"
   ]
  },
  {
   "cell_type": "code",
   "execution_count": 25,
   "id": "1096367a",
   "metadata": {},
   "outputs": [],
   "source": [
    "#removing outliers:\n",
    "data = data[data.total_onshift_partners >= lower]"
   ]
  },
  {
   "cell_type": "code",
   "execution_count": 26,
   "id": "5d637dd9",
   "metadata": {},
   "outputs": [
    {
     "name": "stdout",
     "output_type": "stream",
     "text": [
      "Median total_onshift_partners : 37.0\n"
     ]
    },
    {
     "data": {
      "image/png": "[encoded data removed]",
      "text/plain": [
       "<Figure size 640x480 with 1 Axes>"
      ]
     },
     "metadata": {},
     "output_type": "display_data"
    }
   ],
   "source": [
    "sns.boxplot( y=data[\"total_onshift_partners\"] )\n",
    "print(\"Median total_onshift_partners :\",data[\"total_onshift_partners\"].median())"
   ]
  },
  {
   "cell_type": "code",
   "execution_count": 27,
   "id": "dde88150",
   "metadata": {},
   "outputs": [
    {
     "name": "stdout",
     "output_type": "stream",
     "text": [
      "Mean total_busy_partners is 41.75174101476289\n",
      "Median total_busy_partners is 34.0\n",
      "lower limit : 0 , upper limt : 203.0\n",
      "\n",
      "Min and max values in total_busy_partners column are -5.0 and 154.0 respectively.  \n"
     ]
    }
   ],
   "source": [
    "p_25 = data[\"total_busy_partners\"].quantile(0.25) \n",
    "p_50 = data[\"total_busy_partners\"].quantile(0.5)  # Q2 or p_50 or median\n",
    "p_75 = data[\"total_busy_partners\"].quantile(0.75)\n",
    "\n",
    "iqr = p_75 - p_25\n",
    "lower = max(0,(p_25 - 3 * iqr))\n",
    "upper = p_75 + 3 * iqr\n",
    "\n",
    "print('Mean total_busy_partners is {}'.format(data[\"total_busy_partners\"].mean()))\n",
    "print('Median total_busy_partners is {}'.format(data[\"total_busy_partners\"].median()))\n",
    "print('lower limit : {} , upper limt : {}'.format(lower,upper))\n",
    "print()\n",
    "print('Min and max values in total_busy_partners column are {} and {} respectively.  '\\\n",
    "      .format(data[\"total_busy_partners\"].min(),data[\"total_busy_partners\"].max()))"
   ]
  },
  {
   "cell_type": "code",
   "execution_count": 28,
   "id": "7b428c0a",
   "metadata": {},
   "outputs": [
    {
     "name": "stdout",
     "output_type": "stream",
     "text": [
      "18 0\n"
     ]
    }
   ],
   "source": [
    "#There are  oultliers in total_busy_partners \n",
    "print(len(data[data['total_busy_partners'] < lower ]),len(data[data['total_busy_partners'] > upper ]) )"
   ]
  },
  {
   "cell_type": "code",
   "execution_count": 29,
   "id": "7b060fe0",
   "metadata": {},
   "outputs": [],
   "source": [
    "#removing outliers:\n",
    "data = data[data.total_busy_partners >= lower]"
   ]
  },
  {
   "cell_type": "code",
   "execution_count": 30,
   "id": "c0115c9b",
   "metadata": {},
   "outputs": [
    {
     "name": "stdout",
     "output_type": "stream",
     "text": [
      "Median total_busy_partners : 34.0\n"
     ]
    },
    {
     "data": {
      "image/png": "[encoded data removed]",
      "text/plain": [
       "<Figure size 640x480 with 1 Axes>"
      ]
     },
     "metadata": {},
     "output_type": "display_data"
    }
   ],
   "source": [
    "sns.boxplot( y=data[\"total_busy_partners\"] )\n",
    "print(\"Median total_busy_partners :\",data[\"total_busy_partners\"].median())"
   ]
  },
  {
   "cell_type": "code",
   "execution_count": 31,
   "id": "cac99780",
   "metadata": {},
   "outputs": [
    {
     "name": "stdout",
     "output_type": "stream",
     "text": [
      "Mean total_outstanding_orders is 58.04464775846294\n",
      "Median total_outstanding_orders is 41.0\n",
      "lower limit : 0 , upper limt : 289.0\n",
      "\n",
      "Min and max values in total_outstanding_orders column are -6.0 and 283.0 respectively.  \n"
     ]
    }
   ],
   "source": [
    "p_25 = data[\"total_outstanding_orders\"].quantile(0.25) \n",
    "p_50 = data[\"total_outstanding_orders\"].quantile(0.5)  # Q2 or p_50 or median\n",
    "p_75 = data[\"total_outstanding_orders\"].quantile(0.75)\n",
    "\n",
    "iqr = p_75 - p_25\n",
    "lower = max(0,(p_25 - 3 * iqr))\n",
    "upper = p_75 + 3 * iqr\n",
    "\n",
    "print('Mean total_outstanding_orders is {}'.format(data[\"total_outstanding_orders\"].mean()))\n",
    "print('Median total_outstanding_orders is {}'.format(data[\"total_outstanding_orders\"].median()))\n",
    "print('lower limit : {} , upper limt : {}'.format(lower,upper))\n",
    "print()\n",
    "print('Min and max values in total_outstanding_orders column are {} and {} respectively.  '\\\n",
    "      .format(data[\"total_outstanding_orders\"].min(),data[\"total_outstanding_orders\"].max()))"
   ]
  },
  {
   "cell_type": "code",
   "execution_count": 32,
   "id": "7085bda3",
   "metadata": {},
   "outputs": [
    {
     "name": "stdout",
     "output_type": "stream",
     "text": [
      "40 0\n"
     ]
    }
   ],
   "source": [
    "#There are  oultliers in total_outstanding_orders  \n",
    "print(len(data[data['total_outstanding_orders'] < lower ]),len(data[data['total_outstanding_orders'] > upper ]) )"
   ]
  },
  {
   "cell_type": "code",
   "execution_count": 33,
   "id": "c585c18e",
   "metadata": {},
   "outputs": [],
   "source": [
    "#removing outliers:\n",
    "data = data[data.total_outstanding_orders >= lower]"
   ]
  },
  {
   "cell_type": "code",
   "execution_count": 34,
   "id": "f11d7649",
   "metadata": {},
   "outputs": [
    {
     "name": "stdout",
     "output_type": "stream",
     "text": [
      "Median total_outstanding_orders : 41.0\n"
     ]
    },
    {
     "data": {
      "image/png": "[encoded data removed]",
      "text/plain": [
       "<Figure size 640x480 with 1 Axes>"
      ]
     },
     "metadata": {},
     "output_type": "display_data"
    }
   ],
   "source": [
    "sns.boxplot( y=data[\"total_outstanding_orders\"] )\n",
    "print(\"Median total_outstanding_orders :\",data[\"total_outstanding_orders\"].median())"
   ]
  },
  {
   "cell_type": "code",
   "execution_count": null,
   "id": "f40be69d",
   "metadata": {},
   "outputs": [],
   "source": []
  },
  {
   "cell_type": "markdown",
   "id": "9c491574",
   "metadata": {},
   "source": [
    "## Analysing Categorical Features"
   ]
  },
  {
   "cell_type": "code",
   "execution_count": 35,
   "id": "e804757a",
   "metadata": {},
   "outputs": [
    {
     "data": {
      "image/png": "[encoded data removed]",
      "text/plain": [
       "<Figure size 640x480 with 1 Axes>"
      ]
     },
     "metadata": {},
     "output_type": "display_data"
    }
   ],
   "source": [
    "# Market 2 is having height percentage of orders : 30.4% \n",
    "# Market 6 is having lowest percentage of orders : 0.36%\n",
    "market_id = data['market_id'].value_counts()/len(data) * 100\n",
    "ax = sns.barplot(x=market_id.index, y=market_id.values)\n",
    "for i in ax.containers:\n",
    "    ax.bar_label(i,)"
   ]
  },
  {
   "cell_type": "code",
   "execution_count": 36,
   "id": "f958a818",
   "metadata": {},
   "outputs": [
    {
     "data": {
      "image/png": "[encoded data removed]",
      "text/plain": [
       "<Figure size 640x480 with 1 Axes>"
      ]
     },
     "metadata": {},
     "output_type": "display_data"
    }
   ],
   "source": [
    "# Top 5 store_primary_category:\n",
    "store_primary_category = data['store_primary_category'].value_counts()[:5]\n",
    "ax = sns.barplot(x=store_primary_category.index, y=store_primary_category.values)\n",
    "for i in ax.containers:\n",
    "    ax.bar_label(i,)"
   ]
  },
  {
   "cell_type": "code",
   "execution_count": 37,
   "id": "071b87d6",
   "metadata": {},
   "outputs": [
    {
     "data": {
      "image/png": "[encoded data removed]",
      "text/plain": [
       "<Figure size 640x480 with 1 Axes>"
      ]
     },
     "metadata": {},
     "output_type": "display_data"
    }
   ],
   "source": [
    "# Most orders are placed through order protocol 1, 3 and 5\n",
    "# protocol 6 and 7 has least orders  \n",
    "order_protocol = data['order_protocol'].value_counts()/len(data) * 100\n",
    "ax = sns.barplot(x=order_protocol.index, y=order_protocol.values)\n",
    "for i in ax.containers:\n",
    "    ax.bar_label(i,)"
   ]
  },
  {
   "cell_type": "markdown",
   "id": "0fe2df29",
   "metadata": {},
   "source": [
    "### Creating Target column:"
   ]
  },
  {
   "cell_type": "code",
   "execution_count": 38,
   "id": "f5a316bc",
   "metadata": {},
   "outputs": [],
   "source": [
    "data['created_at'] = pd.to_datetime(data['created_at'])\n",
    "data['actual_delivery_time'] = pd.to_datetime(data['actual_delivery_time'])"
   ]
  },
  {
   "cell_type": "code",
   "execution_count": 39,
   "id": "bf97bf1b",
   "metadata": {},
   "outputs": [],
   "source": [
    "data['hour_of_day'] = data['created_at'].dt.hour\n",
    "data['day_of_week'] = data['created_at'].dt.dayofweek"
   ]
  },
  {
   "cell_type": "code",
   "execution_count": 40,
   "id": "43749388",
   "metadata": {},
   "outputs": [],
   "source": [
    "data['Target'] = data['actual_delivery_time'] - data['created_at']\n",
    "data['Target'] = data['Target'].dt.total_seconds() / 60\n",
    "data['Target'] = data['Target'].round(2)"
   ]
  },
  {
   "cell_type": "code",
   "execution_count": 41,
   "id": "b927d1a4",
   "metadata": {},
   "outputs": [
    {
     "name": "stderr",
     "output_type": "stream",
     "text": [
      "C:\\Users\\1267\\AppData\\Local\\Temp\\ipykernel_18212\\3909868341.py:3: FutureWarning: The behavior of `series[i:j]` with an integer-dtype index is deprecated. In a future version, this will be treated as *label-based* indexing, consistent with e.g. `series[i]` lookups. To retain the old behavior, use `series.iloc[i:j]`. To get the future behavior, use `series.loc[i:j]`.\n",
      "  data['hour_of_day'].value_counts()[:5]\n"
     ]
    },
    {
     "data": {
      "text/plain": [
       "2     32681\n",
       "1     25244\n",
       "3     23605\n",
       "20    14004\n",
       "4     13224\n",
       "Name: hour_of_day, dtype: int64"
      ]
     },
     "execution_count": 41,
     "metadata": {},
     "output_type": "execute_result"
    }
   ],
   "source": [
    "# Top hours of day during which orders are placed are:\n",
    "# 2,1,3,20 and 4 \n",
    "data['hour_of_day'].value_counts()[:5]"
   ]
  },
  {
   "cell_type": "code",
   "execution_count": 42,
   "id": "9f9a574b",
   "metadata": {},
   "outputs": [
    {
     "data": {
      "image/png": "[encoded data removed]",
      "text/plain": [
       "<Figure size 640x480 with 1 Axes>"
      ]
     },
     "metadata": {},
     "output_type": "display_data"
    }
   ],
   "source": [
    "# Percentage of orders at each hour of the day:\n",
    "hour_of_day = round(data['hour_of_day'].value_counts()/len(data) * 100,2)\n",
    "ax = sns.barplot(x=hour_of_day.index, y=hour_of_day.values)\n",
    "for i in ax.containers:\n",
    "    ax.bar_label(i,)"
   ]
  },
  {
   "cell_type": "code",
   "execution_count": 43,
   "id": "0346333c",
   "metadata": {},
   "outputs": [],
   "source": [
    "# After hour 2 we can see oeders decreasing exponentially till hour 6\n",
    "# After hour 15 we can see oeders increasing exponentially till hour 20"
   ]
  },
  {
   "cell_type": "code",
   "execution_count": null,
   "id": "df478a24",
   "metadata": {},
   "outputs": [],
   "source": []
  },
  {
   "cell_type": "code",
   "execution_count": 44,
   "id": "be64b615",
   "metadata": {},
   "outputs": [
    {
     "data": {
      "image/png": "[encoded data removed]",
      "text/plain": [
       "<Figure size 640x480 with 1 Axes>"
      ]
     },
     "metadata": {},
     "output_type": "display_data"
    }
   ],
   "source": [
    "# Most orders are happening in the weekends.\n",
    "day_of_week = data['day_of_week'].value_counts()/len(data) * 100\n",
    "ax = sns.barplot(x=day_of_week.index, y=day_of_week.values)\n",
    "for i in ax.containers:\n",
    "    ax.bar_label(i,)"
   ]
  },
  {
   "cell_type": "code",
   "execution_count": 45,
   "id": "f8c20ffe",
   "metadata": {},
   "outputs": [
    {
     "data": {
      "text/plain": [
       "5749"
      ]
     },
     "execution_count": 45,
     "metadata": {},
     "output_type": "execute_result"
    }
   ],
   "source": [
    "len(data['store_id'].unique())"
   ]
  },
  {
   "cell_type": "code",
   "execution_count": 46,
   "id": "df93fc4c",
   "metadata": {},
   "outputs": [
    {
     "data": {
      "text/html": [
       "<div>\n",
       "<style scoped>\n",
       "    .dataframe tbody tr th:only-of-type {\n",
       "        vertical-align: middle;\n",
       "    }\n",
       "\n",
       "    .dataframe tbody tr th {\n",
       "        vertical-align: top;\n",
       "    }\n",
       "\n",
       "    .dataframe thead th {\n",
       "        text-align: right;\n",
       "    }\n",
       "</style>\n",
       "<table border=\"1\" class=\"dataframe\">\n",
       "  <thead>\n",
       "    <tr style=\"text-align: right;\">\n",
       "      <th></th>\n",
       "      <th>market_id</th>\n",
       "      <th>store_primary_category</th>\n",
       "      <th>order_protocol</th>\n",
       "      <th>total_items</th>\n",
       "      <th>subtotal</th>\n",
       "      <th>num_distinct_items</th>\n",
       "      <th>min_item_price</th>\n",
       "      <th>max_item_price</th>\n",
       "      <th>total_onshift_partners</th>\n",
       "      <th>total_busy_partners</th>\n",
       "      <th>total_outstanding_orders</th>\n",
       "      <th>hour_of_day</th>\n",
       "      <th>day_of_week</th>\n",
       "      <th>Target</th>\n",
       "    </tr>\n",
       "  </thead>\n",
       "  <tbody>\n",
       "    <tr>\n",
       "      <th>0</th>\n",
       "      <td>1.0</td>\n",
       "      <td>american</td>\n",
       "      <td>1.0</td>\n",
       "      <td>4</td>\n",
       "      <td>3441</td>\n",
       "      <td>4</td>\n",
       "      <td>557</td>\n",
       "      <td>1239</td>\n",
       "      <td>33.0</td>\n",
       "      <td>14.0</td>\n",
       "      <td>21.0</td>\n",
       "      <td>22</td>\n",
       "      <td>4</td>\n",
       "      <td>62.98</td>\n",
       "    </tr>\n",
       "    <tr>\n",
       "      <th>1</th>\n",
       "      <td>2.0</td>\n",
       "      <td>mexican</td>\n",
       "      <td>2.0</td>\n",
       "      <td>1</td>\n",
       "      <td>1900</td>\n",
       "      <td>1</td>\n",
       "      <td>1400</td>\n",
       "      <td>1400</td>\n",
       "      <td>1.0</td>\n",
       "      <td>2.0</td>\n",
       "      <td>2.0</td>\n",
       "      <td>21</td>\n",
       "      <td>1</td>\n",
       "      <td>67.07</td>\n",
       "    </tr>\n",
       "  </tbody>\n",
       "</table>\n",
       "</div>"
      ],
      "text/plain": [
       "   market_id store_primary_category  order_protocol  total_items  subtotal  \\\n",
       "0        1.0               american             1.0            4      3441   \n",
       "1        2.0                mexican             2.0            1      1900   \n",
       "\n",
       "   num_distinct_items  min_item_price  max_item_price  total_onshift_partners  \\\n",
       "0                   4             557            1239                    33.0   \n",
       "1                   1            1400            1400                     1.0   \n",
       "\n",
       "   total_busy_partners  total_outstanding_orders  hour_of_day  day_of_week  \\\n",
       "0                 14.0                      21.0           22            4   \n",
       "1                  2.0                       2.0           21            1   \n",
       "\n",
       "   Target  \n",
       "0   62.98  \n",
       "1   67.07  "
      ]
     },
     "execution_count": 46,
     "metadata": {},
     "output_type": "execute_result"
    }
   ],
   "source": [
    "# sice there are 5749 stores we can ignore that column\n",
    "# we can also remove date time columns\n",
    "data = data.drop(['created_at','store_id','actual_delivery_time'], axis=1)\n",
    "data.head(2)"
   ]
  },
  {
   "cell_type": "markdown",
   "id": "63b128d0",
   "metadata": {},
   "source": [
    "### Finding Missing Values"
   ]
  },
  {
   "cell_type": "code",
   "execution_count": 47,
   "id": "e818ad59",
   "metadata": {},
   "outputs": [
    {
     "data": {
      "text/plain": [
       "market_id                    887\n",
       "store_primary_category      4049\n",
       "order_protocol               891\n",
       "total_items                    0\n",
       "subtotal                       0\n",
       "num_distinct_items             0\n",
       "min_item_price                 0\n",
       "max_item_price                 0\n",
       "total_onshift_partners         0\n",
       "total_busy_partners            0\n",
       "total_outstanding_orders       0\n",
       "hour_of_day                    0\n",
       "day_of_week                    0\n",
       "Target                         7\n",
       "dtype: int64"
      ]
     },
     "execution_count": 47,
     "metadata": {},
     "output_type": "execute_result"
    }
   ],
   "source": [
    "data.isnull().sum()"
   ]
  },
  {
   "cell_type": "code",
   "execution_count": 48,
   "id": "9c798f74",
   "metadata": {},
   "outputs": [],
   "source": [
    "# Remove rows with null values in column 'Target'\n",
    "data = data.dropna(subset=['Target'])"
   ]
  },
  {
   "cell_type": "code",
   "execution_count": 49,
   "id": "0329584b",
   "metadata": {},
   "outputs": [
    {
     "name": "stdout",
     "output_type": "stream",
     "text": [
      "market_id : 0.51 %\n",
      "store_primary_category : 2.32 %\n",
      "order_protocol : 0.51 %\n"
     ]
    }
   ],
   "source": [
    "#Total null values in each column in %\n",
    "total =   round((data.isna().sum()/len(data))*100 ,2)\n",
    "for i,v in enumerate(total):\n",
    "    if v> 0:\n",
    "        print(total.index[i],':',v,'%')"
   ]
  },
  {
   "cell_type": "markdown",
   "id": "9ca469ca",
   "metadata": {},
   "source": [
    "# Handling Missing Values:"
   ]
  },
  {
   "cell_type": "code",
   "execution_count": 50,
   "id": "7b8cd0ba",
   "metadata": {},
   "outputs": [],
   "source": [
    "#Divide data in X and y\n",
    "\n",
    "y = data['Target']\n",
    "X = data.drop(['Target'], axis = 1)"
   ]
  },
  {
   "cell_type": "markdown",
   "id": "4c32ef71",
   "metadata": {},
   "source": [
    "### Identify Categorical Features:"
   ]
  },
  {
   "cell_type": "code",
   "execution_count": 51,
   "id": "374af5aa",
   "metadata": {},
   "outputs": [
    {
     "data": {
      "text/plain": [
       "array(['store_primary_category'], dtype=object)"
      ]
     },
     "execution_count": 51,
     "metadata": {},
     "output_type": "execute_result"
    }
   ],
   "source": [
    "categorical_features = X.select_dtypes(include = ['object']).columns.values\n",
    "categorical_features"
   ]
  },
  {
   "cell_type": "code",
   "execution_count": 52,
   "id": "47c28a16",
   "metadata": {},
   "outputs": [
    {
     "data": {
      "text/html": [
       "<div>\n",
       "<style scoped>\n",
       "    .dataframe tbody tr th:only-of-type {\n",
       "        vertical-align: middle;\n",
       "    }\n",
       "\n",
       "    .dataframe tbody tr th {\n",
       "        vertical-align: top;\n",
       "    }\n",
       "\n",
       "    .dataframe thead th {\n",
       "        text-align: right;\n",
       "    }\n",
       "</style>\n",
       "<table border=\"1\" class=\"dataframe\">\n",
       "  <thead>\n",
       "    <tr style=\"text-align: right;\">\n",
       "      <th></th>\n",
       "      <th>store_primary_category</th>\n",
       "    </tr>\n",
       "  </thead>\n",
       "  <tbody>\n",
       "    <tr>\n",
       "      <th>0</th>\n",
       "      <td>american</td>\n",
       "    </tr>\n",
       "    <tr>\n",
       "      <th>1</th>\n",
       "      <td>mexican</td>\n",
       "    </tr>\n",
       "  </tbody>\n",
       "</table>\n",
       "</div>"
      ],
      "text/plain": [
       "  store_primary_category\n",
       "0               american\n",
       "1                mexican"
      ]
     },
     "execution_count": 52,
     "metadata": {},
     "output_type": "execute_result"
    }
   ],
   "source": [
    "X[categorical_features].head(2)"
   ]
  },
  {
   "cell_type": "code",
   "execution_count": 53,
   "id": "26d4910f",
   "metadata": {},
   "outputs": [],
   "source": [
    "cat_impute = SimpleImputer(strategy='constant', fill_value = 'mean')\n",
    "cat_impute.fit(X[categorical_features])\n",
    "X[categorical_features] = cat_impute.transform(X[categorical_features])"
   ]
  },
  {
   "cell_type": "code",
   "execution_count": 54,
   "id": "2e56441a",
   "metadata": {},
   "outputs": [
    {
     "data": {
      "text/plain": [
       "store_primary_category    0\n",
       "dtype: int64"
      ]
     },
     "execution_count": 54,
     "metadata": {},
     "output_type": "execute_result"
    }
   ],
   "source": [
    "X[categorical_features].isnull().sum()"
   ]
  },
  {
   "cell_type": "code",
   "execution_count": null,
   "id": "b31937cc",
   "metadata": {},
   "outputs": [],
   "source": []
  },
  {
   "cell_type": "markdown",
   "id": "9821d822",
   "metadata": {},
   "source": [
    "### Numerical features:"
   ]
  },
  {
   "cell_type": "code",
   "execution_count": 55,
   "id": "6e25443f",
   "metadata": {},
   "outputs": [
    {
     "data": {
      "text/plain": [
       "array(['market_id', 'order_protocol', 'total_items', 'subtotal',\n",
       "       'num_distinct_items', 'min_item_price', 'max_item_price',\n",
       "       'total_onshift_partners', 'total_busy_partners',\n",
       "       'total_outstanding_orders', 'hour_of_day', 'day_of_week'],\n",
       "      dtype=object)"
      ]
     },
     "execution_count": 55,
     "metadata": {},
     "output_type": "execute_result"
    }
   ],
   "source": [
    "numerical_features = X.select_dtypes(include = ['int64','float64']).columns.values\n",
    "numerical_features"
   ]
  },
  {
   "cell_type": "code",
   "execution_count": 56,
   "id": "99de0af8",
   "metadata": {},
   "outputs": [],
   "source": [
    "num_impute = KNNImputer()\n",
    "num_impute.fit(X[numerical_features])\n",
    "X[numerical_features] = num_impute.transform(X[numerical_features])"
   ]
  },
  {
   "cell_type": "code",
   "execution_count": 57,
   "id": "67cfaf10",
   "metadata": {},
   "outputs": [
    {
     "data": {
      "text/plain": [
       "market_id                   0\n",
       "store_primary_category      0\n",
       "order_protocol              0\n",
       "total_items                 0\n",
       "subtotal                    0\n",
       "num_distinct_items          0\n",
       "min_item_price              0\n",
       "max_item_price              0\n",
       "total_onshift_partners      0\n",
       "total_busy_partners         0\n",
       "total_outstanding_orders    0\n",
       "hour_of_day                 0\n",
       "day_of_week                 0\n",
       "dtype: int64"
      ]
     },
     "execution_count": 57,
     "metadata": {},
     "output_type": "execute_result"
    }
   ],
   "source": [
    "X.isnull().sum()"
   ]
  },
  {
   "cell_type": "code",
   "execution_count": 58,
   "id": "2d9df40e",
   "metadata": {},
   "outputs": [
    {
     "data": {
      "text/plain": [
       "(174833, 174833)"
      ]
     },
     "execution_count": 58,
     "metadata": {},
     "output_type": "execute_result"
    }
   ],
   "source": [
    "len(X),len(y)"
   ]
  },
  {
   "cell_type": "code",
   "execution_count": 59,
   "id": "6d24b11e",
   "metadata": {},
   "outputs": [],
   "source": [
    "for col in X.columns:\n",
    "    if col in categorical_features:\n",
    "        X[col] = LabelEncoder().fit_transform(X[col])"
   ]
  },
  {
   "cell_type": "code",
   "execution_count": 61,
   "id": "94b131da",
   "metadata": {},
   "outputs": [
    {
     "data": {
      "text/html": [
       "<div>\n",
       "<style scoped>\n",
       "    .dataframe tbody tr th:only-of-type {\n",
       "        vertical-align: middle;\n",
       "    }\n",
       "\n",
       "    .dataframe tbody tr th {\n",
       "        vertical-align: top;\n",
       "    }\n",
       "\n",
       "    .dataframe thead th {\n",
       "        text-align: right;\n",
       "    }\n",
       "</style>\n",
       "<table border=\"1\" class=\"dataframe\">\n",
       "  <thead>\n",
       "    <tr style=\"text-align: right;\">\n",
       "      <th></th>\n",
       "      <th>market_id</th>\n",
       "      <th>store_primary_category</th>\n",
       "      <th>order_protocol</th>\n",
       "      <th>total_items</th>\n",
       "      <th>subtotal</th>\n",
       "      <th>num_distinct_items</th>\n",
       "      <th>min_item_price</th>\n",
       "      <th>max_item_price</th>\n",
       "      <th>total_onshift_partners</th>\n",
       "      <th>total_busy_partners</th>\n",
       "      <th>total_outstanding_orders</th>\n",
       "      <th>hour_of_day</th>\n",
       "      <th>day_of_week</th>\n",
       "    </tr>\n",
       "  </thead>\n",
       "  <tbody>\n",
       "    <tr>\n",
       "      <th>0</th>\n",
       "      <td>1.0</td>\n",
       "      <td>4</td>\n",
       "      <td>1.0</td>\n",
       "      <td>4.0</td>\n",
       "      <td>3441.0</td>\n",
       "      <td>4.0</td>\n",
       "      <td>557.0</td>\n",
       "      <td>1239.0</td>\n",
       "      <td>33.0</td>\n",
       "      <td>14.0</td>\n",
       "      <td>21.0</td>\n",
       "      <td>22.0</td>\n",
       "      <td>4.0</td>\n",
       "    </tr>\n",
       "    <tr>\n",
       "      <th>1</th>\n",
       "      <td>2.0</td>\n",
       "      <td>47</td>\n",
       "      <td>2.0</td>\n",
       "      <td>1.0</td>\n",
       "      <td>1900.0</td>\n",
       "      <td>1.0</td>\n",
       "      <td>1400.0</td>\n",
       "      <td>1400.0</td>\n",
       "      <td>1.0</td>\n",
       "      <td>2.0</td>\n",
       "      <td>2.0</td>\n",
       "      <td>21.0</td>\n",
       "      <td>1.0</td>\n",
       "    </tr>\n",
       "  </tbody>\n",
       "</table>\n",
       "</div>"
      ],
      "text/plain": [
       "   market_id  store_primary_category  order_protocol  total_items  subtotal  \\\n",
       "0        1.0                       4             1.0          4.0    3441.0   \n",
       "1        2.0                      47             2.0          1.0    1900.0   \n",
       "\n",
       "   num_distinct_items  min_item_price  max_item_price  total_onshift_partners  \\\n",
       "0                 4.0           557.0          1239.0                    33.0   \n",
       "1                 1.0          1400.0          1400.0                     1.0   \n",
       "\n",
       "   total_busy_partners  total_outstanding_orders  hour_of_day  day_of_week  \n",
       "0                 14.0                      21.0         22.0          4.0  \n",
       "1                  2.0                       2.0         21.0          1.0  "
      ]
     },
     "execution_count": 61,
     "metadata": {},
     "output_type": "execute_result"
    }
   ],
   "source": [
    "X.head(2)"
   ]
  },
  {
   "cell_type": "code",
   "execution_count": 62,
   "id": "c25526cc",
   "metadata": {},
   "outputs": [],
   "source": [
    "X_train, X_test, y_train, y_test = train_test_split(X, y, test_size=0.2,random_state=1)"
   ]
  },
  {
   "cell_type": "code",
   "execution_count": 63,
   "id": "1d34889d",
   "metadata": {},
   "outputs": [
    {
     "data": {
      "text/plain": [
       "((139866, 13), (34967, 13))"
      ]
     },
     "execution_count": 63,
     "metadata": {},
     "output_type": "execute_result"
    }
   ],
   "source": [
    "X_train.shape, X_test.shape"
   ]
  },
  {
   "cell_type": "code",
   "execution_count": 64,
   "id": "599d95e5",
   "metadata": {},
   "outputs": [],
   "source": [
    "scaler = preprocessing.StandardScaler()"
   ]
  },
  {
   "cell_type": "code",
   "execution_count": 65,
   "id": "b3b09f26",
   "metadata": {},
   "outputs": [],
   "source": [
    "scaler = preprocessing.StandardScaler()\n",
    "scaler.fit(X_train)\n",
    "X_train_scaled = scaler.transform(X_train)\n",
    "X_test_scaled = scaler.transform(X_test)"
   ]
  },
  {
   "cell_type": "markdown",
   "id": "b7d496f6",
   "metadata": {},
   "source": [
    "# Random Forest regressor model"
   ]
  },
  {
   "cell_type": "code",
   "execution_count": 66,
   "id": "de332ac4",
   "metadata": {},
   "outputs": [
    {
     "data": {
      "text/html": [
       "<style>#sk-container-id-1 {color: black;background-color: white;}#sk-container-id-1 pre{padding: 0;}#sk-container-id-1 div.sk-toggleable {background-color: white;}#sk-container-id-1 label.sk-toggleable__label {cursor: pointer;display: block;width: 100%;margin-bottom: 0;padding: 0.3em;box-sizing: border-box;text-align: center;}#sk-container-id-1 label.sk-toggleable__label-arrow:before {content: \"▸\";float: left;margin-right: 0.25em;color: #696969;}#sk-container-id-1 label.sk-toggleable__label-arrow:hover:before {color: black;}#sk-container-id-1 div.sk-estimator:hover label.sk-toggleable__label-arrow:before {color: black;}#sk-container-id-1 div.sk-toggleable__content {max-height: 0;max-width: 0;overflow: hidden;text-align: left;background-color: #f0f8ff;}#sk-container-id-1 div.sk-toggleable__content pre {margin: 0.2em;color: black;border-radius: 0.25em;background-color: #f0f8ff;}#sk-container-id-1 input.sk-toggleable__control:checked~div.sk-toggleable__content {max-height: 200px;max-width: 100%;overflow: auto;}#sk-container-id-1 input.sk-toggleable__control:checked~label.sk-toggleable__label-arrow:before {content: \"▾\";}#sk-container-id-1 div.sk-estimator input.sk-toggleable__control:checked~label.sk-toggleable__label {background-color: #d4ebff;}#sk-container-id-1 div.sk-label input.sk-toggleable__control:checked~label.sk-toggleable__label {background-color: #d4ebff;}#sk-container-id-1 input.sk-hidden--visually {border: 0;clip: rect(1px 1px 1px 1px);clip: rect(1px, 1px, 1px, 1px);height: 1px;margin: -1px;overflow: hidden;padding: 0;position: absolute;width: 1px;}#sk-container-id-1 div.sk-estimator {font-family: monospace;background-color: #f0f8ff;border: 1px dotted black;border-radius: 0.25em;box-sizing: border-box;margin-bottom: 0.5em;}#sk-container-id-1 div.sk-estimator:hover {background-color: #d4ebff;}#sk-container-id-1 div.sk-parallel-item::after {content: \"\";width: 100%;border-bottom: 1px solid gray;flex-grow: 1;}#sk-container-id-1 div.sk-label:hover label.sk-toggleable__label {background-color: #d4ebff;}#sk-container-id-1 div.sk-serial::before {content: \"\";position: absolute;border-left: 1px solid gray;box-sizing: border-box;top: 0;bottom: 0;left: 50%;z-index: 0;}#sk-container-id-1 div.sk-serial {display: flex;flex-direction: column;align-items: center;background-color: white;padding-right: 0.2em;padding-left: 0.2em;position: relative;}#sk-container-id-1 div.sk-item {position: relative;z-index: 1;}#sk-container-id-1 div.sk-parallel {display: flex;align-items: stretch;justify-content: center;background-color: white;position: relative;}#sk-container-id-1 div.sk-item::before, #sk-container-id-1 div.sk-parallel-item::before {content: \"\";position: absolute;border-left: 1px solid gray;box-sizing: border-box;top: 0;bottom: 0;left: 50%;z-index: -1;}#sk-container-id-1 div.sk-parallel-item {display: flex;flex-direction: column;z-index: 1;position: relative;background-color: white;}#sk-container-id-1 div.sk-parallel-item:first-child::after {align-self: flex-end;width: 50%;}#sk-container-id-1 div.sk-parallel-item:last-child::after {align-self: flex-start;width: 50%;}#sk-container-id-1 div.sk-parallel-item:only-child::after {width: 0;}#sk-container-id-1 div.sk-dashed-wrapped {border: 1px dashed gray;margin: 0 0.4em 0.5em 0.4em;box-sizing: border-box;padding-bottom: 0.4em;background-color: white;}#sk-container-id-1 div.sk-label label {font-family: monospace;font-weight: bold;display: inline-block;line-height: 1.2em;}#sk-container-id-1 div.sk-label-container {text-align: center;}#sk-container-id-1 div.sk-container {/* jupyter's `normalize.less` sets `[hidden] { display: none; }` but bootstrap.min.css set `[hidden] { display: none !important; }` so we also need the `!important` here to be able to override the default hidden behavior on the sphinx rendered scikit-learn.org. See: https://github.com/scikit-learn/scikit-learn/issues/21755 */display: inline-block !important;position: relative;}#sk-container-id-1 div.sk-text-repr-fallback {display: none;}</style><div id=\"sk-container-id-1\" class=\"sk-top-container\"><div class=\"sk-text-repr-fallback\"><pre>RandomForestRegressor()</pre><b>In a Jupyter environment, please rerun this cell to show the HTML representation or trust the notebook. <br />On GitHub, the HTML representation is unable to render, please try loading this page with nbviewer.org.</b></div><div class=\"sk-container\" hidden><div class=\"sk-item\"><div class=\"sk-estimator sk-toggleable\"><input class=\"sk-toggleable__control sk-hidden--visually\" id=\"sk-estimator-id-1\" type=\"checkbox\" checked><label for=\"sk-estimator-id-1\" class=\"sk-toggleable__label sk-toggleable__label-arrow\">RandomForestRegressor</label><div class=\"sk-toggleable__content\"><pre>RandomForestRegressor()</pre></div></div></div></div></div>"
      ],
      "text/plain": [
       "RandomForestRegressor()"
      ]
     },
     "execution_count": 66,
     "metadata": {},
     "output_type": "execute_result"
    }
   ],
   "source": [
    "\n",
    "rf_model = RandomForestRegressor()\n",
    "\n",
    "rf_model.fit(X_train_scaled, y_train)"
   ]
  },
  {
   "cell_type": "code",
   "execution_count": 67,
   "id": "569a7491",
   "metadata": {},
   "outputs": [],
   "source": [
    "# Use the best model to make predictions\n",
    "predictions = rf_model.predict(X_test_scaled)"
   ]
  },
  {
   "cell_type": "code",
   "execution_count": 68,
   "id": "d6ab5697",
   "metadata": {},
   "outputs": [
    {
     "name": "stdout",
     "output_type": "stream",
     "text": [
      "Mean Squared Error: 1319.7302521226452\n",
      "Root Mean Squared Error: 36.328091776511535\n",
      "Mean Absolute Error: 11.763940126813443\n"
     ]
    }
   ],
   "source": [
    "# Calculate Mean Squared Error (MSE)\n",
    "mse = mean_squared_error(y_test, predictions)\n",
    "print(\"Mean Squared Error:\", mse)\n",
    "\n",
    "# Calculate Root Mean Squared Error (RMSE)\n",
    "rmse = np.sqrt(mse)\n",
    "print(\"Root Mean Squared Error:\", rmse)\n",
    "\n",
    "# Calculate Mean Absolute Error (MAE)\n",
    "mae = mean_absolute_error(y_test, predictions)\n",
    "print(\"Mean Absolute Error:\", mae)"
   ]
  },
  {
   "cell_type": "code",
   "execution_count": 69,
   "id": "f9b33116",
   "metadata": {},
   "outputs": [
    {
     "data": {
      "text/plain": [
       "array([54.6441, 38.5846, 49.3677, 39.5669, 60.9054])"
      ]
     },
     "execution_count": 69,
     "metadata": {},
     "output_type": "execute_result"
    }
   ],
   "source": [
    "predictions[:5]"
   ]
  },
  {
   "cell_type": "code",
   "execution_count": 70,
   "id": "3377ef21",
   "metadata": {},
   "outputs": [
    {
     "name": "stderr",
     "output_type": "stream",
     "text": [
      "C:\\Users\\1267\\AppData\\Local\\Temp\\ipykernel_18212\\1754177261.py:1: FutureWarning: The behavior of `series[i:j]` with an integer-dtype index is deprecated. In a future version, this will be treated as *label-based* indexing, consistent with e.g. `series[i]` lookups. To retain the old behavior, use `series.iloc[i:j]`. To get the future behavior, use `series.loc[i:j]`.\n",
      "  y_test[:5]\n"
     ]
    },
    {
     "data": {
      "text/plain": [
       "92999     64.23\n",
       "163276    34.95\n",
       "119350    51.00\n",
       "96333     38.33\n",
       "174641    89.75\n",
       "Name: Target, dtype: float64"
      ]
     },
     "execution_count": 70,
     "metadata": {},
     "output_type": "execute_result"
    }
   ],
   "source": [
    "y_test[:5]"
   ]
  },
  {
   "cell_type": "markdown",
   "id": "6af1e80f",
   "metadata": {},
   "source": [
    "# Neural Network Model:"
   ]
  },
  {
   "cell_type": "code",
   "execution_count": 71,
   "id": "86da6b3d",
   "metadata": {},
   "outputs": [],
   "source": [
    "input_dim = X_test_scaled.shape[1]"
   ]
  },
  {
   "cell_type": "code",
   "execution_count": 90,
   "id": "6175d87d",
   "metadata": {},
   "outputs": [
    {
     "name": "stdout",
     "output_type": "stream",
     "text": [
      "Epoch 1/15\n",
      "4371/4371 [==============================] - 34s 7ms/step - loss: 989.6633\n",
      "Epoch 2/15\n",
      "4371/4371 [==============================] - 30s 7ms/step - loss: 624.3481\n",
      "Epoch 3/15\n",
      "4371/4371 [==============================] - 29s 7ms/step - loss: 613.5824\n",
      "Epoch 4/15\n",
      "4371/4371 [==============================] - 27s 6ms/step - loss: 604.4163\n",
      "Epoch 5/15\n",
      "4371/4371 [==============================] - 29s 7ms/step - loss: 598.7262\n",
      "Epoch 6/15\n",
      "4371/4371 [==============================] - 28s 6ms/step - loss: 594.0978\n",
      "Epoch 7/15\n",
      "4371/4371 [==============================] - 29s 7ms/step - loss: 589.2460\n",
      "Epoch 8/15\n",
      "4371/4371 [==============================] - 29s 7ms/step - loss: 584.8557\n",
      "Epoch 9/15\n",
      "4371/4371 [==============================] - 30s 7ms/step - loss: 579.4586\n",
      "Epoch 10/15\n",
      "4371/4371 [==============================] - 30s 7ms/step - loss: 577.4224\n",
      "Epoch 11/15\n",
      "4371/4371 [==============================] - 29s 7ms/step - loss: 570.9773\n",
      "Epoch 12/15\n",
      "4371/4371 [==============================] - 28s 6ms/step - loss: 566.3378\n",
      "Epoch 13/15\n",
      "4371/4371 [==============================] - 25s 6ms/step - loss: 564.0969\n",
      "Epoch 14/15\n",
      "4371/4371 [==============================] - 12s 3ms/step - loss: 561.5610\n",
      "Epoch 15/15\n",
      "4371/4371 [==============================] - 11s 3ms/step - loss: 558.7136\n"
     ]
    },
    {
     "data": {
      "text/plain": [
       "<keras.callbacks.History at 0x1cf3b9a8a50>"
      ]
     },
     "execution_count": 90,
     "metadata": {},
     "output_type": "execute_result"
    }
   ],
   "source": [
    "# Define the model architecture\n",
    "model = keras.Sequential([\n",
    "    layers.Dense(64, activation='relu', input_shape=(input_dim,)),  # Adjust input_dim to match your input feature size\n",
    "    layers.BatchNormalization(),\n",
    "    layers.Dropout(0.4),\n",
    "    layers.Dense(32, activation='relu'),\n",
    "    layers.BatchNormalization(),\n",
    "    layers.Dropout(0.4),\n",
    "    layers.Dense(16, activation='relu'),\n",
    "    layers.BatchNormalization(),\n",
    "    layers.Dropout(0.4),\n",
    "    layers.Dense(1)  # Output layer with a single neuron for regression\n",
    "])\n",
    "\n",
    "# Compile the model\n",
    "model.compile(optimizer='adam', loss='mean_squared_error')\n",
    "\n",
    "# Train the model\n",
    "model.fit(X_train_scaled, y_train, epochs=15, batch_size=32, verbose = True)"
   ]
  },
  {
   "cell_type": "code",
   "execution_count": 91,
   "id": "b8912de3",
   "metadata": {},
   "outputs": [
    {
     "name": "stdout",
     "output_type": "stream",
     "text": [
      "1093/1093 [==============================] - 1s 1ms/step\n"
     ]
    }
   ],
   "source": [
    "predictions = model.predict(X_test_scaled)"
   ]
  },
  {
   "cell_type": "code",
   "execution_count": 92,
   "id": "bc212b20",
   "metadata": {},
   "outputs": [
    {
     "name": "stdout",
     "output_type": "stream",
     "text": [
      "Mean Squared Error: 1372.2401516543098\n",
      "Root Mean Squared Error: 37.043759955683626\n",
      "Mean Absolute Error: 11.690184214614316\n"
     ]
    }
   ],
   "source": [
    "# Calculate Mean Squared Error (MSE)\n",
    "mse = mean_squared_error(y_test, predictions)\n",
    "print(\"Mean Squared Error:\", mse)\n",
    "\n",
    "# Calculate Root Mean Squared Error (RMSE)\n",
    "rmse = np.sqrt(mse)\n",
    "print(\"Root Mean Squared Error:\", rmse)\n",
    "\n",
    "# Calculate Mean Absolute Error (MAE)\n",
    "mae = mean_absolute_error(y_test, predictions)\n",
    "print(\"Mean Absolute Error:\", mae)"
   ]
  },
  {
   "cell_type": "markdown",
   "id": "c5597ebf",
   "metadata": {},
   "source": [
    "# Hyperparameter tuning:"
   ]
  },
  {
   "cell_type": "code",
   "execution_count": 77,
   "id": "ef7475f6",
   "metadata": {},
   "outputs": [],
   "source": [
    "from sklearn.model_selection import KFold\n",
    "from tensorflow.keras.models import Sequential\n",
    "from tensorflow.keras.layers import Dense\n",
    "from tensorflow.keras.wrappers.scikit_learn import KerasRegressor"
   ]
  },
  {
   "cell_type": "code",
   "execution_count": 81,
   "id": "a673efb4",
   "metadata": {},
   "outputs": [
    {
     "name": "stderr",
     "output_type": "stream",
     "text": [
      "C:\\Users\\1267\\AppData\\Local\\Temp\\ipykernel_18212\\2502980875.py:9: DeprecationWarning: KerasRegressor is deprecated, use Sci-Keras (https://github.com/adriangb/scikeras) instead. See https://www.adriangb.com/scikeras/stable/migration.html for help migrating.\n",
      "  model = KerasRegressor(build_fn=create_model)\n"
     ]
    },
    {
     "name": "stdout",
     "output_type": "stream",
     "text": [
      "3497/3497 [==============================] - 15s 4ms/step - loss: 920.8233\n",
      "875/875 [==============================] - 4s 4ms/step - loss: 339.6791\n",
      "3497/3497 [==============================] - 15s 4ms/step - loss: 903.1645\n",
      "875/875 [==============================] - 3s 3ms/step - loss: 344.3050\n",
      "3497/3497 [==============================] - 15s 4ms/step - loss: 615.3295\n",
      "875/875 [==============================] - 3s 3ms/step - loss: 1403.2936\n",
      "3497/3497 [==============================] - 14s 4ms/step - loss: 890.8652\n",
      "875/875 [==============================] - 3s 3ms/step - loss: 341.3725\n",
      "3497/3497 [==============================] - 15s 4ms/step - loss: 912.2257\n",
      "875/875 [==============================] - 3s 3ms/step - loss: 344.2860\n",
      "3497/3497 [==============================] - 15s 4ms/step - loss: 790.2708\n",
      "875/875 [==============================] - 3s 3ms/step - loss: 327.3347\n",
      "3497/3497 [==============================] - 15s 4ms/step - loss: 805.1343\n",
      "875/875 [==============================] - 3s 3ms/step - loss: 330.7132\n",
      "3497/3497 [==============================] - 16s 4ms/step - loss: 541.4892\n",
      "875/875 [==============================] - 3s 3ms/step - loss: 1391.3938\n",
      "3497/3497 [==============================] - 15s 4ms/step - loss: 820.6224\n",
      "875/875 [==============================] - 3s 4ms/step - loss: 325.3438\n",
      "3497/3497 [==============================] - 15s 4ms/step - loss: 789.7040\n",
      "875/875 [==============================] - 3s 3ms/step - loss: 328.3808\n",
      "3497/3497 [==============================] - 17s 4ms/step - loss: 739.2321\n",
      "875/875 [==============================] - 3s 3ms/step - loss: 322.4126\n",
      "3497/3497 [==============================] - 17s 4ms/step - loss: 742.8756\n",
      "875/875 [==============================] - 4s 4ms/step - loss: 322.7926\n",
      "3497/3497 [==============================] - 15s 4ms/step - loss: 475.6290\n",
      "875/875 [==============================] - 3s 4ms/step - loss: 1384.6138\n",
      "3497/3497 [==============================] - 16s 4ms/step - loss: 757.5588\n",
      "875/875 [==============================] - 3s 4ms/step - loss: 320.3992\n",
      "3497/3497 [==============================] - 15s 4ms/step - loss: 751.3705\n",
      "875/875 [==============================] - 3s 3ms/step - loss: 320.4638\n",
      "3497/3497 [==============================] - 14s 4ms/step - loss: 1103.9998\n",
      "875/875 [==============================] - 4s 4ms/step - loss: 344.2022\n",
      "3497/3497 [==============================] - 19s 5ms/step - loss: 1009.0220\n",
      "875/875 [==============================] - 4s 4ms/step - loss: 345.7957\n",
      "3497/3497 [==============================] - 17s 4ms/step - loss: 807.9132\n",
      "875/875 [==============================] - 3s 3ms/step - loss: 1407.7428\n",
      "3497/3497 [==============================] - 15s 4ms/step - loss: 1083.7101\n",
      "875/875 [==============================] - 3s 3ms/step - loss: 344.7848\n",
      "3497/3497 [==============================] - 15s 4ms/step - loss: 1104.8632\n",
      "875/875 [==============================] - 3s 3ms/step - loss: 345.0434\n",
      "3497/3497 [==============================] - 16s 4ms/step - loss: 891.3323\n",
      "875/875 [==============================] - 4s 4ms/step - loss: 333.8858\n",
      "3497/3497 [==============================] - 13s 3ms/step - loss: 874.0761\n",
      "875/875 [==============================] - 4s 4ms/step - loss: 336.3500\n",
      "3497/3497 [==============================] - 16s 4ms/step - loss: 616.8817\n",
      "875/875 [==============================] - 3s 3ms/step - loss: 1394.9199\n",
      "3497/3497 [==============================] - 15s 4ms/step - loss: 873.4688\n",
      "875/875 [==============================] - 4s 4ms/step - loss: 333.0472\n",
      "3497/3497 [==============================] - 20s 5ms/step - loss: 903.6606\n",
      "875/875 [==============================] - 5s 5ms/step - loss: 333.7087\n",
      "3497/3497 [==============================] - 23s 6ms/step - loss: 766.5550\n",
      "875/875 [==============================] - 4s 4ms/step - loss: 327.0668\n",
      "3497/3497 [==============================] - 17s 4ms/step - loss: 786.0626\n",
      "875/875 [==============================] - 3s 3ms/step - loss: 328.6731\n",
      "3497/3497 [==============================] - 17s 4ms/step - loss: 507.5812\n",
      "875/875 [==============================] - 4s 4ms/step - loss: 1388.8395\n",
      "3497/3497 [==============================] - 18s 5ms/step - loss: 756.9738\n",
      "875/875 [==============================] - 4s 4ms/step - loss: 327.6451\n",
      "3497/3497 [==============================] - 16s 4ms/step - loss: 767.4393\n",
      "875/875 [==============================] - 4s 4ms/step - loss: 326.6006\n",
      "4371/4371 [==============================] - 19s 4ms/step - loss: 663.1681\n"
     ]
    },
    {
     "data": {
      "text/html": [
       "<style>#sk-container-id-2 {color: black;background-color: white;}#sk-container-id-2 pre{padding: 0;}#sk-container-id-2 div.sk-toggleable {background-color: white;}#sk-container-id-2 label.sk-toggleable__label {cursor: pointer;display: block;width: 100%;margin-bottom: 0;padding: 0.3em;box-sizing: border-box;text-align: center;}#sk-container-id-2 label.sk-toggleable__label-arrow:before {content: \"▸\";float: left;margin-right: 0.25em;color: #696969;}#sk-container-id-2 label.sk-toggleable__label-arrow:hover:before {color: black;}#sk-container-id-2 div.sk-estimator:hover label.sk-toggleable__label-arrow:before {color: black;}#sk-container-id-2 div.sk-toggleable__content {max-height: 0;max-width: 0;overflow: hidden;text-align: left;background-color: #f0f8ff;}#sk-container-id-2 div.sk-toggleable__content pre {margin: 0.2em;color: black;border-radius: 0.25em;background-color: #f0f8ff;}#sk-container-id-2 input.sk-toggleable__control:checked~div.sk-toggleable__content {max-height: 200px;max-width: 100%;overflow: auto;}#sk-container-id-2 input.sk-toggleable__control:checked~label.sk-toggleable__label-arrow:before {content: \"▾\";}#sk-container-id-2 div.sk-estimator input.sk-toggleable__control:checked~label.sk-toggleable__label {background-color: #d4ebff;}#sk-container-id-2 div.sk-label input.sk-toggleable__control:checked~label.sk-toggleable__label {background-color: #d4ebff;}#sk-container-id-2 input.sk-hidden--visually {border: 0;clip: rect(1px 1px 1px 1px);clip: rect(1px, 1px, 1px, 1px);height: 1px;margin: -1px;overflow: hidden;padding: 0;position: absolute;width: 1px;}#sk-container-id-2 div.sk-estimator {font-family: monospace;background-color: #f0f8ff;border: 1px dotted black;border-radius: 0.25em;box-sizing: border-box;margin-bottom: 0.5em;}#sk-container-id-2 div.sk-estimator:hover {background-color: #d4ebff;}#sk-container-id-2 div.sk-parallel-item::after {content: \"\";width: 100%;border-bottom: 1px solid gray;flex-grow: 1;}#sk-container-id-2 div.sk-label:hover label.sk-toggleable__label {background-color: #d4ebff;}#sk-container-id-2 div.sk-serial::before {content: \"\";position: absolute;border-left: 1px solid gray;box-sizing: border-box;top: 0;bottom: 0;left: 50%;z-index: 0;}#sk-container-id-2 div.sk-serial {display: flex;flex-direction: column;align-items: center;background-color: white;padding-right: 0.2em;padding-left: 0.2em;position: relative;}#sk-container-id-2 div.sk-item {position: relative;z-index: 1;}#sk-container-id-2 div.sk-parallel {display: flex;align-items: stretch;justify-content: center;background-color: white;position: relative;}#sk-container-id-2 div.sk-item::before, #sk-container-id-2 div.sk-parallel-item::before {content: \"\";position: absolute;border-left: 1px solid gray;box-sizing: border-box;top: 0;bottom: 0;left: 50%;z-index: -1;}#sk-container-id-2 div.sk-parallel-item {display: flex;flex-direction: column;z-index: 1;position: relative;background-color: white;}#sk-container-id-2 div.sk-parallel-item:first-child::after {align-self: flex-end;width: 50%;}#sk-container-id-2 div.sk-parallel-item:last-child::after {align-self: flex-start;width: 50%;}#sk-container-id-2 div.sk-parallel-item:only-child::after {width: 0;}#sk-container-id-2 div.sk-dashed-wrapped {border: 1px dashed gray;margin: 0 0.4em 0.5em 0.4em;box-sizing: border-box;padding-bottom: 0.4em;background-color: white;}#sk-container-id-2 div.sk-label label {font-family: monospace;font-weight: bold;display: inline-block;line-height: 1.2em;}#sk-container-id-2 div.sk-label-container {text-align: center;}#sk-container-id-2 div.sk-container {/* jupyter's `normalize.less` sets `[hidden] { display: none; }` but bootstrap.min.css set `[hidden] { display: none !important; }` so we also need the `!important` here to be able to override the default hidden behavior on the sphinx rendered scikit-learn.org. See: https://github.com/scikit-learn/scikit-learn/issues/21755 */display: inline-block !important;position: relative;}#sk-container-id-2 div.sk-text-repr-fallback {display: none;}</style><div id=\"sk-container-id-2\" class=\"sk-top-container\"><div class=\"sk-text-repr-fallback\"><pre>GridSearchCV(cv=KFold(n_splits=5, random_state=None, shuffle=False),\n",
       "             estimator=&lt;keras.wrappers.scikit_learn.KerasRegressor object at 0x000001CEBED01750&gt;,\n",
       "             param_grid={&#x27;activation&#x27;: [&#x27;relu&#x27;, &#x27;sigmoid&#x27;],\n",
       "                         &#x27;units&#x27;: [32, 64, 128]})</pre><b>In a Jupyter environment, please rerun this cell to show the HTML representation or trust the notebook. <br />On GitHub, the HTML representation is unable to render, please try loading this page with nbviewer.org.</b></div><div class=\"sk-container\" hidden><div class=\"sk-item sk-dashed-wrapped\"><div class=\"sk-label-container\"><div class=\"sk-label sk-toggleable\"><input class=\"sk-toggleable__control sk-hidden--visually\" id=\"sk-estimator-id-2\" type=\"checkbox\" ><label for=\"sk-estimator-id-2\" class=\"sk-toggleable__label sk-toggleable__label-arrow\">GridSearchCV</label><div class=\"sk-toggleable__content\"><pre>GridSearchCV(cv=KFold(n_splits=5, random_state=None, shuffle=False),\n",
       "             estimator=&lt;keras.wrappers.scikit_learn.KerasRegressor object at 0x000001CEBED01750&gt;,\n",
       "             param_grid={&#x27;activation&#x27;: [&#x27;relu&#x27;, &#x27;sigmoid&#x27;],\n",
       "                         &#x27;units&#x27;: [32, 64, 128]})</pre></div></div></div><div class=\"sk-parallel\"><div class=\"sk-parallel-item\"><div class=\"sk-item\"><div class=\"sk-label-container\"><div class=\"sk-label sk-toggleable\"><input class=\"sk-toggleable__control sk-hidden--visually\" id=\"sk-estimator-id-3\" type=\"checkbox\" ><label for=\"sk-estimator-id-3\" class=\"sk-toggleable__label sk-toggleable__label-arrow\">estimator: KerasRegressor</label><div class=\"sk-toggleable__content\"><pre>&lt;keras.wrappers.scikit_learn.KerasRegressor object at 0x000001CEBED01750&gt;</pre></div></div></div><div class=\"sk-serial\"><div class=\"sk-item\"><div class=\"sk-estimator sk-toggleable\"><input class=\"sk-toggleable__control sk-hidden--visually\" id=\"sk-estimator-id-4\" type=\"checkbox\" ><label for=\"sk-estimator-id-4\" class=\"sk-toggleable__label sk-toggleable__label-arrow\">KerasRegressor</label><div class=\"sk-toggleable__content\"><pre>&lt;keras.wrappers.scikit_learn.KerasRegressor object at 0x000001CEBED01750&gt;</pre></div></div></div></div></div></div></div></div></div></div>"
      ],
      "text/plain": [
       "GridSearchCV(cv=KFold(n_splits=5, random_state=None, shuffle=False),\n",
       "             estimator=<keras.wrappers.scikit_learn.KerasRegressor object at 0x000001CEBED01750>,\n",
       "             param_grid={'activation': ['relu', 'sigmoid'],\n",
       "                         'units': [32, 64, 128]})"
      ]
     },
     "execution_count": 81,
     "metadata": {},
     "output_type": "execute_result"
    }
   ],
   "source": [
    "def create_model(units=32, activation='relu'):\n",
    "    model = Sequential()\n",
    "    model.add(Dense(units=units, activation=activation, input_dim=X_train.shape[1]))\n",
    "    model.add(Dense(units=1))\n",
    "    model.compile(optimizer='adam', loss='mse')\n",
    "    return model\n",
    "\n",
    "# Create KerasRegressor\n",
    "model = KerasRegressor(build_fn=create_model)\n",
    "\n",
    "# Define the hyperparameters grid for tuning\n",
    "param_grid = {\n",
    "    'units': [32, 64, 128],\n",
    "    'activation': ['relu', 'sigmoid']\n",
    "}\n",
    "\n",
    "# Perform grid search with cross-validation\n",
    "grid_search = GridSearchCV(model, param_grid, cv=KFold(n_splits=5))\n",
    "grid_search.fit(X_train_scaled, y_train)"
   ]
  },
  {
   "cell_type": "code",
   "execution_count": 83,
   "id": "98c4811a",
   "metadata": {},
   "outputs": [],
   "source": [
    "# Get the best model and its hyperparameters\n",
    "best_model = grid_search.best_estimator_\n",
    "best_params = grid_search.best_params_"
   ]
  },
  {
   "cell_type": "code",
   "execution_count": 85,
   "id": "d156ad84",
   "metadata": {},
   "outputs": [
    {
     "name": "stdout",
     "output_type": "stream",
     "text": [
      "1093/1093 [==============================] - 4s 3ms/step\n",
      "Best Parameters:  {'activation': 'relu', 'units': 128}\n"
     ]
    }
   ],
   "source": [
    "# Evaluate the best model on the test set\n",
    "predictions = best_model.predict(X_test_scaled)\n",
    "mse = mean_squared_error(y_test, predictions)\n",
    "print(\"Best Parameters: \", best_params)"
   ]
  },
  {
   "cell_type": "code",
   "execution_count": 86,
   "id": "e9e63bb8",
   "metadata": {},
   "outputs": [
    {
     "name": "stdout",
     "output_type": "stream",
     "text": [
      "Mean Squared Error: 1389.276443000417\n",
      "Root Mean Squared Error: 37.27299884635548\n",
      "Mean Absolute Error: 12.179712738727458\n"
     ]
    }
   ],
   "source": [
    "# Calculate Mean Squared Error (MSE)\n",
    "mse = mean_squared_error(y_test, predictions)\n",
    "print(\"Mean Squared Error:\", mse)\n",
    "\n",
    "# Calculate Root Mean Squared Error (RMSE)\n",
    "rmse = np.sqrt(mse)\n",
    "print(\"Root Mean Squared Error:\", rmse)\n",
    "\n",
    "# Calculate Mean Absolute Error (MAE)\n",
    "mae = mean_absolute_error(y_test, predictions)\n",
    "print(\"Mean Absolute Error:\", mae)"
   ]
  },
  {
   "cell_type": "code",
   "execution_count": null,
   "id": "4ef560be",
   "metadata": {},
   "outputs": [],
   "source": []
  },
  {
   "cell_type": "markdown",
   "id": "895e2c21",
   "metadata": {},
   "source": [
    "# Leading Questions:"
   ]
  },
  {
   "cell_type": "markdown",
   "id": "19e827b3",
   "metadata": {},
   "source": [
    "#### 1. Defining the problem statements and where can this and modifications of this be used?\n",
    "Ans: Here we need to train a regression model to estimate the delivery time for a delivery app, a marketplace for intra-city logistics in India. The goal is to provide customers with an estimated delivery time based on various factors, including the items being ordered, the location they are being delivered from, and the available delivery partners."
   ]
  },
  {
   "cell_type": "markdown",
   "id": "4f35b56e",
   "metadata": {},
   "source": [
    "#### 2.List 3 functions the pandas datetime provides with one line explanation.\n",
    "1) to_datetime : Converts a string to a pandas datetime object.\n",
    "2) dt.hour : function is used to extract the hour component from a datetime object.\n",
    "3) dt.dayofweek : function is used to extract the day of the week from a datetime object"
   ]
  },
  {
   "cell_type": "markdown",
   "id": "3511a269",
   "metadata": {},
   "source": [
    "#### 3.Short note on datetime, timedelta, time span (period)\n",
    "1. datetime : The datetime class is used to represent a specific date and time, while the date and time classes are used to represent only the date or time component, respectively.With the datetime module, you can perform operations such as date arithmetic, formatting, parsing, and extracting specific components like year, month, day, hour, minute, and second.\n",
    "2. timedelta : The timedelta class in Python represents a duration or difference between two dates or times. It allows you to perform arithmetic operations on dates and times, such as adding or subtracting a specific duration. The timedelta class accepts arguments for days, seconds, microseconds, milliseconds, minutes, hours, and weeks.\n",
    "3. Period : the Period class is provided to handle time spans. It allows you to work with a fixed frequency of time, such as daily, monthly, or yearly intervals. The Period class provides methods to perform operations like arithmetic, converting to and from other time representations, and extracting components such as year, month, day, etc."
   ]
  },
  {
   "cell_type": "markdown",
   "id": "49767ca0",
   "metadata": {},
   "source": [
    "#### 4.Why do we need to check for outliers in our data?\n",
    "Ans: Outliers can have a significant impact on statistical analyses and modeling. They can distort the distribution of the data, affect measures of central tendency. By identifying and handling outliers appropriately, we can obtain more accurate and reliable statistical results.Outliers can adversely affect the performance and generalization ability of machine learning models. Models may overfit or underfit the data if outliers are not properly handled. Outliers can also introduce bias or noise into the model"
   ]
  },
  {
   "cell_type": "markdown",
   "id": "b8917b27",
   "metadata": {},
   "source": [
    "#### 5.Name 3 outlier removal methods?\n",
    "1. IQR : IQR method uses the interquartile range to identify outliers. The IQR is the range between the 25th percentile (Q1) and the 75th percentile (Q3) of the data. Any data point that falls below Q1 - 1.5 * IQR or above Q3 + 1.5 * IQR is considered an outlier and can be removed.\n",
    "2. DBSCAN : DBSCAN is a density-based clustering algorithm that can be adapted for outlier detection. It identifies outliers as data points that fall in low-density regions, away from clusters.\n",
    "3. Isolation Forest : Isolation Forest algorithm is a tree-based ensemble method specifically designed for outlier detection. It isolates outliers by randomly partitioning the data into subsets and isolating them in smaller and smaller partitions."
   ]
  },
  {
   "cell_type": "markdown",
   "id": "cdd56bb4",
   "metadata": {},
   "source": [
    "#### 6. What classical machine learning methods can we use other than random forest for regression?\n",
    "Ans: For regression tasks we can use Linear Regression, Support Vector Regression, K-nearest Neighbours Regression and Decision Tree Regression"
   ]
  },
  {
   "cell_type": "markdown",
   "id": "2d353b3e",
   "metadata": {},
   "source": [
    "#### 7. Why is scaling required for neural networks?\n",
    "Ans: When the input features have different scales, it can result in gradients that are too large or too small during backpropagation. Large gradients may cause unstable training or result in the \"exploding gradient\" problem. Small gradients may lead to slow convergence or the \"vanishing gradient\" problem. Scaling the input features to a similar range can lead to faster convergence during training. It can help the optimization algorithm find the optimal weights more efficiently by ensuring that each feature contributes proportionally to the overall loss function."
   ]
  },
  {
   "cell_type": "markdown",
   "id": "29e462f6",
   "metadata": {},
   "source": [
    "#### 8. Briefly explain your choice of optimizer?\n",
    "Ans: Adam - It is an adaptive optimization algorithm that computes adaptive learning rates for each parameter. It combines the benefits of both AdaGrad and RMSprop."
   ]
  },
  {
   "cell_type": "markdown",
   "id": "08ba6a2a",
   "metadata": {},
   "source": [
    "#### 9. Which activation function did you use and why?\n",
    "Ans: ReLU: It is a simple activation function compared to other alternatives like sigmoid or tanh. It only activates only if the input is positive, and it is zero otherwise. This simplicity leads to faster computations and easier implementation in neural network architectures."
   ]
  },
  {
   "cell_type": "markdown",
   "id": "5a520157",
   "metadata": {},
   "source": [
    "#### 10. Why does a neural network perform well on a large dataset?\n",
    "Ans: Training a neural network on a large dataset typically requires significant computational resources. With advancements in hardware and access to high-performance computing, training larger networks on larger datasets becomes feasible. This increased computational capacity allows for more complex models and deeper architectures, which can capture and learn intricate patterns and relationships in the data.With a larger dataset, there is more variation and diversity in the training examples, making it harder for the model to memorize the data and forcing it to focus on generalizable patterns."
   ]
  },
  {
   "cell_type": "code",
   "execution_count": null,
   "id": "16cf7e62",
   "metadata": {},
   "outputs": [],
   "source": []
  }
 ],
 "metadata": {
  "kernelspec": {
   "display_name": "Python 3 (ipykernel)",
   "language": "python",
   "name": "python3"
  },
  "language_info": {
   "codemirror_mode": {
    "name": "ipython",
    "version": 3
   },
   "file_extension": ".py",
   "mimetype": "text/x-python",
   "name": "python",
   "nbconvert_exporter": "python",
   "pygments_lexer": "ipython3",
   "version": "3.9.7"
  }
 },
 "nbformat": 4,
 "nbformat_minor": 5
}
